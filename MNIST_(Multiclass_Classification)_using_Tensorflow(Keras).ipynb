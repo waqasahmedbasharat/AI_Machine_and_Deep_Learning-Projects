{
  "nbformat": 4,
  "nbformat_minor": 0,
  "metadata": {
    "colab": {
      "provenance": []
    },
    "kernelspec": {
      "name": "python3",
      "display_name": "Python 3"
    },
    "language_info": {
      "name": "python"
    }
  },
  "cells": [
    {
      "cell_type": "markdown",
      "source": [
        "# MNIST (Multiclass-Classification) using Tensorflow(Keras)"
      ],
      "metadata": {
        "id": "vb8MCJZzC3uE"
      }
    },
    {
      "cell_type": "markdown",
      "source": [
        "## MNIST Dataset"
      ],
      "metadata": {
        "id": "rGZgd-8SEF00"
      }
    },
    {
      "cell_type": "code",
      "execution_count": null,
      "metadata": {
        "id": "MJuUbgUrq_pS"
      },
      "outputs": [],
      "source": [
        "from tensorflow.keras.datasets import mnist\n",
        "from tensorflow.keras.models import Sequential\n",
        "from tensorflow.keras.layers import Dense\n",
        "from tensorflow.keras.utils import to_categorical"
      ]
    },
    {
      "cell_type": "markdown",
      "source": [
        "## Data Splitting"
      ],
      "metadata": {
        "id": "dgUdjlmbBdsK"
      }
    },
    {
      "cell_type": "code",
      "source": [
        "(X_train, Y_train), (X_test, Y_test) = mnist.load_data()"
      ],
      "metadata": {
        "id": "VSaa1YQRDmeA"
      },
      "execution_count": null,
      "outputs": []
    },
    {
      "cell_type": "markdown",
      "source": [
        "## Preprocessing"
      ],
      "metadata": {
        "id": "TqG8YVyDEDCZ"
      }
    },
    {
      "cell_type": "code",
      "source": [
        "import matplotlib.pyplot as plt\n",
        "\n",
        "n = 10 #how many digits we will display\n",
        "plt.figure(figsize=(20,4))\n",
        "\n",
        "for i in range(n):\n",
        "  # display original\n",
        "  ax = plt.subplot(2, n, i + 1)\n",
        "  plt.imshow(X_test[i].reshape(28,28))\n",
        "  plt.gray()\n",
        "  ax.get_xaxis().set_visible(False)\n",
        "  ax.get_yaxis().set_visible(False)\n",
        "\n",
        "plt.show()\n",
        "plt.close()"
      ],
      "metadata": {
        "colab": {
          "base_uri": "https://localhost:8080/",
          "height": 128
        },
        "id": "SXfWZiu0DvbP",
        "outputId": "107403a0-db28-4a10-86f2-b0fdbe4ea865"
      },
      "execution_count": null,
      "outputs": [
        {
          "output_type": "display_data",
          "data": {
            "text/plain": [
              "<Figure size 2000x400 with 10 Axes>"
            ],
            "image/png": "[encoded data removed]"
          },
          "metadata": {}
        }
      ]
    },
    {
      "cell_type": "markdown",
      "source": [
        "## Flattening the Images"
      ],
      "metadata": {
        "id": "pyLFK3BMGzBo"
      }
    },
    {
      "cell_type": "code",
      "source": [
        "print(\"Previous X_train shape: {} \\nPrevious Y_train shape: {}\".format(X_train.shape, Y_train.shape))\n",
        "\n",
        "X_train = X_train.reshape(60000, 784)\n",
        "X_test = X_test.reshape(10000, 784)"
      ],
      "metadata": {
        "colab": {
          "base_uri": "https://localhost:8080/"
        },
        "id": "7srgVTwwFJfr",
        "outputId": "68ea0a05-91bb-4340-dff9-fc32812a671b"
      },
      "execution_count": null,
      "outputs": [
        {
          "output_type": "stream",
          "name": "stdout",
          "text": [
            "Previous X_train shape: (60000, 28, 28) \n",
            "Previous Y_train shape: (60000,)\n"
          ]
        }
      ]
    },
    {
      "cell_type": "markdown",
      "source": [
        "## Min-Max Scalling"
      ],
      "metadata": {
        "id": "Je1UZZPTDBFd"
      }
    },
    {
      "cell_type": "code",
      "source": [
        "# convert data type to float32\n",
        "X_train = X_train.astype('float32')\n",
        "X_test = X_test.astype('float32')\n",
        "\n",
        "# Normalize the pixel values  to a range between 0 and 1\n",
        "X_train /= 255 # 0 mean black and 255 white\n",
        "X_test /= 255"
      ],
      "metadata": {
        "id": "ir2gleGLDDwB"
      },
      "execution_count": null,
      "outputs": []
    },
    {
      "cell_type": "markdown",
      "source": [
        "## Processing the target variable (One hot encoding(will display desired as 1 and other 0))"
      ],
      "metadata": {
        "id": "zoWrNdT-EDfj"
      }
    },
    {
      "cell_type": "code",
      "source": [
        "# no of classes in the datset\n",
        "classes = 10\n",
        "\n",
        "# convert the labels to one-hot encoded format\n",
        "Y_train = to_categorical(Y_train, classes)\n",
        "Y_test =to_categorical(Y_test, classes)\n",
        "\n",
        "# print the preprocesses and reshaped data\n",
        "print(\"Now X_train shape: {} \\nNew Y_train shape: {}\".format(X_train.shape, Y_train.shape))"
      ],
      "metadata": {
        "colab": {
          "base_uri": "https://localhost:8080/"
        },
        "id": "XRV3HBjIEG66",
        "outputId": "9a0beaf8-4694-43e6-ca1b-d543cb042ff9"
      },
      "execution_count": null,
      "outputs": [
        {
          "output_type": "stream",
          "name": "stdout",
          "text": [
            "Now X_train shape: (60000, 784) \n",
            "New Y_train shape: (60000, 10)\n"
          ]
        }
      ]
    },
    {
      "cell_type": "markdown",
      "source": [
        "## Setting up parameters"
      ],
      "metadata": {
        "id": "iaZNiIGQcm8j"
      }
    },
    {
      "cell_type": "code",
      "source": [
        "# no size for each data sample(image pixels(28*28))\n",
        "batch_size = 200\n",
        "\n",
        "# no of data sample to process in each batch(no of neurons in input layer)\n",
        "input_size = 784\n",
        "\n",
        "# no of neurons in 1st hidden layer\n",
        "hidden1 = 400\n",
        "\n",
        "# no of neurons in 2nd layer\n",
        "hidden2 = 20\n",
        "\n",
        "# total no of calsses and categories (outout layer)\n",
        "classes = 10\n",
        "\n",
        "# no pf complete pass through the dataset\n",
        "epochs = 10"
      ],
      "metadata": {
        "id": "2fqG0NWKcU6W"
      },
      "execution_count": null,
      "outputs": []
    },
    {
      "cell_type": "markdown",
      "source": [
        "## Building the FCN Model"
      ],
      "metadata": {
        "id": "XzEW1CPddRui"
      }
    },
    {
      "cell_type": "code",
      "source": [
        "# standars neural network or fully connected neural network(layer by layer)\n",
        "model = Sequential()\n",
        "\n",
        "# 1st hidden layers with 'hidden1' neurons using relu activation function\n",
        "# Dense a connected layers box(every neuron linked with all previous neurons(will put neurons in it))\n",
        "model.add(Dense(400, input_dim=input_size, activation='relu')) # relu --> 1 neuron or activation function\n",
        "\n",
        "# 2nd hiiden layers with 'hidden2' neurons also using activation function\n",
        "model.add(Dense(20, activation='relu'))\n",
        "\n",
        "# using softmax bcz its multiclass classification (output layer --> ouptut prob of each class)\n",
        "# softmax --> collection of neurons(10 neurons base on the categories)\n",
        "model.add(Dense(classes, activation='softmax'))\n",
        "\n",
        "# compile the model by specifying the loss function, optimizer and avaluation metrics\n",
        "# for binary binary_crossentropy and for multiclass categorical_crossentropy\n",
        "# sgd --> stochastic gradient descent(optimizer)\n",
        "model.compile(loss='categorical_crossentropy', metrics=['accuracy'], optimizer='sgd')\n",
        "\n",
        "model.summary()"
      ],
      "metadata": {
        "colab": {
          "base_uri": "https://localhost:8080/"
        },
        "id": "CUOyG_qEdO67",
        "outputId": "0129b159-a2aa-4b82-f710-c9fdc2c5c79a"
      },
      "execution_count": null,
      "outputs": [
        {
          "output_type": "stream",
          "name": "stdout",
          "text": [
            "Model: \"sequential_8\"\n",
            "_________________________________________________________________\n",
            " Layer (type)                Output Shape              Param #   \n",
            "=================================================================\n",
            " dense_24 (Dense)            (None, 400)               314000    \n",
            "                                                                 \n",
            " dense_25 (Dense)            (None, 20)                8020      \n",
            "                                                                 \n",
            " dense_26 (Dense)            (None, 10)                210       \n",
            "                                                                 \n",
            "=================================================================\n",
            "Total params: 322230 (1.23 MB)\n",
            "Trainable params: 322230 (1.23 MB)\n",
            "Non-trainable params: 0 (0.00 Byte)\n",
            "_________________________________________________________________\n"
          ]
        }
      ]
    },
    {
      "cell_type": "markdown",
      "source": [
        "## Parameter calculation\n",
        "output = relu(dot(W,input) + bias)\n",
        "(400*784) + 400 = 31400 = 0.3 million parameters\n",
        "\n",
        "parameters for chat-gpt4 = 1.76trillion"
      ],
      "metadata": {
        "id": "icGua5rcVW3M"
      }
    },
    {
      "cell_type": "markdown",
      "source": [
        "## Training the model"
      ],
      "metadata": {
        "id": "n08hZztCefXs"
      }
    },
    {
      "cell_type": "code",
      "source": [
        "from time import time\n",
        "\n",
        "# record the time\n",
        "tic = time()\n",
        "\n",
        "# fit the model\n",
        "model.fit(X_train, Y_train, batch_size=batch_size, epochs = 10, verbose=1)\n",
        "\n",
        "# time after training\n",
        "toc = time()\n",
        "\n",
        "# calculate and print time taken from model training\n",
        "print(\"Model training took {} secs.\".format(toc - tic))"
      ],
      "metadata": {
        "colab": {
          "base_uri": "https://localhost:8080/"
        },
        "id": "CjBzHrjXeMgt",
        "outputId": "77167c1f-d980-448c-90ab-0decb9fa31c7"
      },
      "execution_count": null,
      "outputs": [
        {
          "output_type": "stream",
          "name": "stdout",
          "text": [
            "Epoch 1/10\n",
            "300/300 [==============================] - 3s 8ms/step - loss: 1.4540 - accuracy: 0.5987\n",
            "Epoch 2/10\n",
            "300/300 [==============================] - 2s 8ms/step - loss: 0.6421 - accuracy: 0.8500\n",
            "Epoch 3/10\n",
            "300/300 [==============================] - 3s 12ms/step - loss: 0.4589 - accuracy: 0.8817\n",
            "Epoch 4/10\n",
            "300/300 [==============================] - 2s 7ms/step - loss: 0.3889 - accuracy: 0.8961\n",
            "Epoch 5/10\n",
            "300/300 [==============================] - 2s 7ms/step - loss: 0.3503 - accuracy: 0.9043\n",
            "Epoch 6/10\n",
            "300/300 [==============================] - 2s 7ms/step - loss: 0.3243 - accuracy: 0.9103\n",
            "Epoch 7/10\n",
            "300/300 [==============================] - 2s 7ms/step - loss: 0.3050 - accuracy: 0.9148\n",
            "Epoch 8/10\n",
            "300/300 [==============================] - 3s 10ms/step - loss: 0.2892 - accuracy: 0.9186\n",
            "Epoch 9/10\n",
            "300/300 [==============================] - 3s 9ms/step - loss: 0.2762 - accuracy: 0.9222\n",
            "Epoch 10/10\n",
            "300/300 [==============================] - 2s 7ms/step - loss: 0.2649 - accuracy: 0.9254\n",
            "Model training took 25.757285118103027 secs.\n"
          ]
        }
      ]
    },
    {
      "cell_type": "markdown",
      "source": [
        "## Testing the model"
      ],
      "metadata": {
        "id": "QzgnkNybhsjr"
      }
    },
    {
      "cell_type": "code",
      "source": [
        "from sklearn.metrics import accuracy_score\n",
        "import numpy as np\n",
        "import matplotlib.pyplot as plt\n",
        "\n",
        "# predict\n",
        "y_pred_probs = model.predict(X_test, verbose=0)\n",
        "y_pred = np.where(y_pred_probs > 0.5, 1, 0)\n",
        "\n",
        "# calculate and print the test accuracy\n",
        "test_accuracy = accuracy_score(y_pred, Y_test)\n",
        "print(\"\\nTest accuracy: {}\".format(test_accuracy))"
      ],
      "metadata": {
        "colab": {
          "base_uri": "https://localhost:8080/"
        },
        "id": "9hlFH8AnfDUi",
        "outputId": "0d85729b-5e2d-41d9-9e56-95b9f0461b9e"
      },
      "execution_count": null,
      "outputs": [
        {
          "output_type": "stream",
          "name": "stdout",
          "text": [
            "\n",
            "Test accuracy: 0.9089\n"
          ]
        }
      ]
    },
    {
      "cell_type": "code",
      "source": [
        "# define a mask for selecting a dice of ranges(20 to 49)\n",
        "mask = range(20, 50)\n",
        "\n",
        "# select the first 20 samples from the test set for viz\n",
        "X_valid = X_test[0:20]\n",
        "actual_labels = Y_test[0:20]\n",
        "\n",
        "# predict probs for the selected validation samples\n",
        "y_pred_probs_valid = model.predict(X_valid)\n",
        "y_pred_valid = np.where(y_pred_probs_valid > 0.5, 1, 0)\n",
        "\n",
        "# set up a figure to display images\n",
        "n = len(X_valid)\n",
        "plt.figure(figsize=(20,4))\n",
        "\n",
        "for i in range(n):\n",
        "  ax = plt.subplot(2, n, i+1)\n",
        "  plt.imshow(X_valid[i].reshape(28,28))\n",
        "  plt.gray()\n",
        "  ax.get_xaxis().set_visible(False)\n",
        "  ax.get_yaxis().set_visible(False)\n",
        "\n",
        "  # display predicted digits\n",
        "  predicted_digit = np.argmax(y_pred_probs_valid[i])\n",
        "  ax = plt.subplot(2, n, i+1+n)\n",
        "  plt.text(0.5, 0.5, str(predicted_digit), fontsize=12, ha='center', va='center')\n",
        "  plt.axis('off')\n",
        "\n",
        "plt.show()\n",
        "plt.close()"
      ],
      "metadata": {
        "id": "0YU9D4Ivc85w",
        "outputId": "f2ffc1a5-4822-4cca-8cb9-4399c92d1bd1",
        "colab": {
          "base_uri": "https://localhost:8080/",
          "height": 248
        }
      },
      "execution_count": null,
      "outputs": [
        {
          "output_type": "stream",
          "name": "stdout",
          "text": [
            "1/1 [==============================] - 0s 21ms/step\n"
          ]
        },
        {
          "output_type": "display_data",
          "data": {
            "text/plain": [
              "<Figure size 2000x400 with 40 Axes>"
            ],
            "image/png": "[encoded data removed]"
          },
          "metadata": {}
        }
      ]
    }
  ]
}