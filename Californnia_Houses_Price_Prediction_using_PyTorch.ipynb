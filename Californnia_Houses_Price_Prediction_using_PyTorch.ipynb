{
  "nbformat": 4,
  "nbformat_minor": 0,
  "metadata": {
    "colab": {
      "provenance": []
    },
    "kernelspec": {
      "name": "python3",
      "display_name": "Python 3"
    },
    "language_info": {
      "name": "python"
    }
  },
  "cells": [
    {
      "cell_type": "markdown",
      "source": [
        "# Californnia Houses Price Prediction using PyTorch"
      ],
      "metadata": {
        "id": "6XSqyC9OFvd3"
      }
    },
    {
      "cell_type": "markdown",
      "source": [
        "## Importing libraries"
      ],
      "metadata": {
        "id": "FN2ikBWAHHMK"
      }
    },
    {
      "cell_type": "code",
      "execution_count": null,
      "metadata": {
        "id": "MjPuQ-XXPzJx"
      },
      "outputs": [],
      "source": [
        "import torch\n",
        "import torch.nn as nn\n",
        "import torch.optim as optim\n",
        "from sklearn.datasets import fetch_california_housing\n",
        "from sklearn.model_selection import train_test_split\n",
        "from sklearn.preprocessing import StandardScaler\n",
        "from sklearn.metrics import mean_squared_error\n",
        "import pandas as pd"
      ]
    },
    {
      "cell_type": "markdown",
      "source": [
        "## Loading the California Housing dataset"
      ],
      "metadata": {
        "id": "WO7XQ3ADHsp_"
      }
    },
    {
      "cell_type": "code",
      "source": [
        "data = fetch_california_housing()\n",
        "x = data.data\n",
        "Y = data.target"
      ],
      "metadata": {
        "id": "fEgJOz7kHkP0"
      },
      "execution_count": null,
      "outputs": []
    },
    {
      "cell_type": "markdown",
      "source": [
        "## Quick look on data"
      ],
      "metadata": {
        "id": "ZlXVkdZKIta-"
      }
    },
    {
      "cell_type": "code",
      "source": [
        "# convert x and y into pandas dataframes\n",
        "x_df = pd.DataFrame(X, columns=data.feature_names)\n",
        "\n",
        "# display the loaded data\n",
        "print(\"California Housing Data:\")\n",
        "print(x_df.head())"
      ],
      "metadata": {
        "colab": {
          "base_uri": "https://localhost:8080/"
        },
        "id": "XeFSoBk4H23w",
        "outputId": "1e0e7123-a722-4288-9bca-129389f2f0ad"
      },
      "execution_count": null,
      "outputs": [
        {
          "output_type": "stream",
          "name": "stdout",
          "text": [
            "California Housing Data:\n",
            "   MedInc  HouseAge  AveRooms  AveBedrms  Population  AveOccup  Latitude  \\\n",
            "0  8.3252      41.0  6.984127   1.023810       322.0  2.555556     37.88   \n",
            "1  8.3014      21.0  6.238137   0.971880      2401.0  2.109842     37.86   \n",
            "2  7.2574      52.0  8.288136   1.073446       496.0  2.802260     37.85   \n",
            "3  5.6431      52.0  5.817352   1.073059       558.0  2.547945     37.85   \n",
            "4  3.8462      52.0  6.281853   1.081081       565.0  2.181467     37.85   \n",
            "\n",
            "   Longitude  \n",
            "0    -122.23  \n",
            "1    -122.22  \n",
            "2    -122.24  \n",
            "3    -122.25  \n",
            "4    -122.25  \n"
          ]
        }
      ]
    },
    {
      "cell_type": "code",
      "source": [
        "# convert x and y into pandas dataframes\n",
        "y_df = pd.DataFrame(y, columns=[\"target\"])\n",
        "\n",
        "# display the loaded data\n",
        "print(\"California Housing Target:\")\n",
        "print(y_df.head())"
      ],
      "metadata": {
        "colab": {
          "base_uri": "https://localhost:8080/"
        },
        "id": "zRr9ZWniKduw",
        "outputId": "565dd07a-0bde-42f0-e93e-a3a73c598f42"
      },
      "execution_count": null,
      "outputs": [
        {
          "output_type": "stream",
          "name": "stdout",
          "text": [
            "California Housing Target:\n",
            "   target\n",
            "0   4.526\n",
            "1   3.585\n",
            "2   3.521\n",
            "3   3.413\n",
            "4   3.422\n"
          ]
        }
      ]
    },
    {
      "cell_type": "markdown",
      "source": [
        "## Splitting the data into train and test sets"
      ],
      "metadata": {
        "id": "7ZKtgAiYLmSK"
      }
    },
    {
      "cell_type": "code",
      "source": [
        "X_train, X_test, y_train, y_test = train_test_split(X, y, test_size = 0.2, random_state=42)"
      ],
      "metadata": {
        "id": "PD6pfGJ8Ku0-"
      },
      "execution_count": null,
      "outputs": []
    },
    {
      "cell_type": "markdown",
      "source": [
        "## Normalizing the data\n",
        "to reduce the domination the data and convert it in specific range like 0 and 1."
      ],
      "metadata": {
        "id": "VjrprTM3MNPb"
      }
    },
    {
      "cell_type": "code",
      "source": [
        "# standardize the input features\n",
        "scaler = StandardScaler()\n",
        "X_train = scaler.fit_transform(X_train)\n",
        "X_test = scaler.transform(X_test)\n",
        "\n",
        "print(X_train)"
      ],
      "metadata": {
        "colab": {
          "base_uri": "https://localhost:8080/"
        },
        "id": "QfCrCKZJMPUW",
        "outputId": "fd2c7ce8-4338-42b0-f9d0-f9a4f13f0288"
      },
      "execution_count": null,
      "outputs": [
        {
          "output_type": "stream",
          "name": "stdout",
          "text": [
            "[[-0.326196    0.34849025 -0.17491646 ...  0.05137609 -1.3728112\n",
            "   1.27258656]\n",
            " [-0.03584338  1.61811813 -0.40283542 ... -0.11736222 -0.87669601\n",
            "   0.70916212]\n",
            " [ 0.14470145 -1.95271028  0.08821601 ... -0.03227969 -0.46014647\n",
            "  -0.44760309]\n",
            " ...\n",
            " [-0.49697313  0.58654547 -0.60675918 ...  0.02030568 -0.75500738\n",
            "   0.59946887]\n",
            " [ 0.96545045 -1.07984112  0.40217517 ...  0.00707608  0.90651045\n",
            "  -1.18553953]\n",
            " [-0.68544764  1.85617335 -0.85144571 ... -0.08535429  0.99543676\n",
            "  -1.41489815]]\n"
          ]
        }
      ]
    },
    {
      "cell_type": "markdown",
      "source": [
        "## Convert data to PyTorch tensors"
      ],
      "metadata": {
        "id": "97VsH42yOkjr"
      }
    },
    {
      "cell_type": "code",
      "source": [
        "X_train = torch.FloatTensor(X_train)\n",
        "y_train = torch.FloatTensor(y_train)\n",
        "X_test= torch.FloatTensor(X_test)\n",
        "y_test= torch.FloatTensor(y_test)\n",
        "\n",
        "print(X_train)"
      ],
      "metadata": {
        "colab": {
          "base_uri": "https://localhost:8080/"
        },
        "id": "VhKPUkeGM4Ur",
        "outputId": "21da2ab8-6454-46e6-d7fb-27a7217de01a"
      },
      "execution_count": null,
      "outputs": [
        {
          "output_type": "stream",
          "name": "stdout",
          "text": [
            "tensor([[-0.3262,  0.3485, -0.1749,  ...,  0.0514, -1.3728,  1.2726],\n",
            "        [-0.0358,  1.6181, -0.4028,  ..., -0.1174, -0.8767,  0.7092],\n",
            "        [ 0.1447, -1.9527,  0.0882,  ..., -0.0323, -0.4601, -0.4476],\n",
            "        ...,\n",
            "        [-0.4970,  0.5865, -0.6068,  ...,  0.0203, -0.7550,  0.5995],\n",
            "        [ 0.9655, -1.0798,  0.4022,  ...,  0.0071,  0.9065, -1.1855],\n",
            "        [-0.6854,  1.8562, -0.8514,  ..., -0.0854,  0.9954, -1.4149]])\n"
          ]
        }
      ]
    },
    {
      "cell_type": "markdown",
      "source": [
        "## Defining the model\n",
        "neurins have two parts linear and non linear parts and relu used for non linear"
      ],
      "metadata": {
        "id": "GeGtRdJAPEId"
      }
    },
    {
      "cell_type": "code",
      "source": [
        "## simple regression model\n",
        "class RegressionModel(nn.Module):\n",
        "  def __init__(self, input_size):\n",
        "    super(RegressionModel, self).__init__()\n",
        "    self.fcl = nn.Linear(input_size, 64)\n",
        "    self.relu = nn.ReLU()\n",
        "    self.fc2 = nn.Linear(64, 128)\n",
        "    self.relu = nn.ReLU()\n",
        "    self.fc3 = nn.Linear(128,10)\n",
        "    self.relu = nn.ReLU()\n",
        "    self.fc4 = nn.Linear(10,1)\n",
        "\n",
        "  def forward(self,x):\n",
        "    x = self.fcl(x)\n",
        "    x = self.relu(x)\n",
        "    x = self.fc2(x)\n",
        "    x = self.relu(x)\n",
        "    x = self.fc3(x)\n",
        "    x = self.relu(x)\n",
        "    x = self.fc4(x)\n",
        "    return x"
      ],
      "metadata": {
        "id": "Ssyr7fmHPAn3"
      },
      "execution_count": null,
      "outputs": []
    },
    {
      "cell_type": "markdown",
      "source": [
        "## Create the model"
      ],
      "metadata": {
        "id": "BLSnP6ZmaCy3"
      }
    },
    {
      "cell_type": "code",
      "source": [
        "input_size = X_train.shape[1] # checking the columns shape(1) and 0 for rows\n",
        "print(input_size)\n",
        "model = RegressionModel(input_size)\n",
        "print(model)"
      ],
      "metadata": {
        "colab": {
          "base_uri": "https://localhost:8080/"
        },
        "id": "V5OdFwmNZcA_",
        "outputId": "b5ee3df0-8f91-4204-f869-ea29cb86340f"
      },
      "execution_count": null,
      "outputs": [
        {
          "output_type": "stream",
          "name": "stdout",
          "text": [
            "8\n",
            "RegressionModel(\n",
            "  (fcl): Linear(in_features=8, out_features=64, bias=True)\n",
            "  (relu): ReLU()\n",
            "  (fc2): Linear(in_features=64, out_features=128, bias=True)\n",
            "  (fc3): Linear(in_features=128, out_features=10, bias=True)\n",
            "  (fc4): Linear(in_features=10, out_features=1, bias=True)\n",
            ")\n"
          ]
        }
      ]
    },
    {
      "cell_type": "markdown",
      "source": [
        "## Loss function and optimizer"
      ],
      "metadata": {
        "id": "cCCcSGr6b0li"
      }
    },
    {
      "cell_type": "code",
      "source": [
        "loss_func = nn.MSELoss()\n",
        "optimizer = optim.SGD(model.parameters(), lr=0.001)"
      ],
      "metadata": {
        "id": "RtA3iDDTaa3G"
      },
      "execution_count": null,
      "outputs": []
    },
    {
      "cell_type": "markdown",
      "source": [
        "## Model Training"
      ],
      "metadata": {
        "id": "ER73tpqdd1Q5"
      }
    },
    {
      "cell_type": "code",
      "source": [
        "num_epochs = 500\n",
        "for epoch in range(num_epochs):\n",
        "  # forward pass\n",
        "  outputs = model(X_train)\n",
        "  loss = loss_func(outputs, y_train.view(-1,1))\n",
        "\n",
        "  # backward pass and optimization\n",
        "  optimizer.zero_grad()\n",
        "  loss.backward()\n",
        "  optimizer.step()\n",
        "\n",
        "  if (epoch + 1)%10==0:\n",
        "    print(f'Epoch [{epoch+1}/{num_epochs}], Loss: {loss.item():.4f}')"
      ],
      "metadata": {
        "colab": {
          "base_uri": "https://localhost:8080/"
        },
        "id": "6kD8hGbBdrUR",
        "outputId": "baaff0f2-7fcb-4d56-c3a3-ae2e58e39208"
      },
      "execution_count": null,
      "outputs": [
        {
          "output_type": "stream",
          "name": "stdout",
          "text": [
            "Epoch [10/500], Loss: 5.6704\n",
            "Epoch [20/500], Loss: 5.3579\n",
            "Epoch [30/500], Loss: 5.0376\n",
            "Epoch [40/500], Loss: 4.7000\n",
            "Epoch [50/500], Loss: 4.3635\n",
            "Epoch [60/500], Loss: 4.0375\n",
            "Epoch [70/500], Loss: 3.7233\n",
            "Epoch [80/500], Loss: 3.4219\n",
            "Epoch [90/500], Loss: 3.1348\n",
            "Epoch [100/500], Loss: 2.8642\n",
            "Epoch [110/500], Loss: 2.6126\n",
            "Epoch [120/500], Loss: 2.3825\n",
            "Epoch [130/500], Loss: 2.1760\n",
            "Epoch [140/500], Loss: 1.9946\n",
            "Epoch [150/500], Loss: 1.8385\n",
            "Epoch [160/500], Loss: 1.7070\n",
            "Epoch [170/500], Loss: 1.5983\n",
            "Epoch [180/500], Loss: 1.5098\n",
            "Epoch [190/500], Loss: 1.4385\n",
            "Epoch [200/500], Loss: 1.3812\n",
            "Epoch [210/500], Loss: 1.3350\n",
            "Epoch [220/500], Loss: 1.2973\n",
            "Epoch [230/500], Loss: 1.2660\n",
            "Epoch [240/500], Loss: 1.2393\n",
            "Epoch [250/500], Loss: 1.2161\n",
            "Epoch [260/500], Loss: 1.1953\n",
            "Epoch [270/500], Loss: 1.1763\n",
            "Epoch [280/500], Loss: 1.1587\n",
            "Epoch [290/500], Loss: 1.1420\n",
            "Epoch [300/500], Loss: 1.1261\n",
            "Epoch [310/500], Loss: 1.1108\n",
            "Epoch [320/500], Loss: 1.0960\n",
            "Epoch [330/500], Loss: 1.0817\n",
            "Epoch [340/500], Loss: 1.0678\n",
            "Epoch [350/500], Loss: 1.0542\n",
            "Epoch [360/500], Loss: 1.0409\n",
            "Epoch [370/500], Loss: 1.0280\n",
            "Epoch [380/500], Loss: 1.0154\n",
            "Epoch [390/500], Loss: 1.0031\n",
            "Epoch [400/500], Loss: 0.9911\n",
            "Epoch [410/500], Loss: 0.9794\n",
            "Epoch [420/500], Loss: 0.9680\n",
            "Epoch [430/500], Loss: 0.9568\n",
            "Epoch [440/500], Loss: 0.9458\n",
            "Epoch [450/500], Loss: 0.9351\n",
            "Epoch [460/500], Loss: 0.9247\n",
            "Epoch [470/500], Loss: 0.9146\n",
            "Epoch [480/500], Loss: 0.9047\n",
            "Epoch [490/500], Loss: 0.8951\n",
            "Epoch [500/500], Loss: 0.8857\n"
          ]
        }
      ]
    },
    {
      "cell_type": "markdown",
      "source": [
        "## Saving the model"
      ],
      "metadata": {
        "id": "xaeQRAaTiacc"
      }
    },
    {
      "cell_type": "code",
      "source": [
        "torch.save(model.state_dict(), 'california_housing_model.pth')"
      ],
      "metadata": {
        "id": "EsPfQftghtNg"
      },
      "execution_count": null,
      "outputs": []
    },
    {
      "cell_type": "markdown",
      "source": [
        "## Load the model weights"
      ],
      "metadata": {
        "id": "uQd2x_hFjVUI"
      }
    },
    {
      "cell_type": "code",
      "source": [
        "loaded_model = RegressionModel(input_size)\n",
        "loaded_model.load_state_dict(torch.load('california_housing_model.pth'))"
      ],
      "metadata": {
        "colab": {
          "base_uri": "https://localhost:8080/"
        },
        "id": "Is0oJmkRjTQa",
        "outputId": "d76391f2-3990-4195-a771-677ae77e87f5"
      },
      "execution_count": null,
      "outputs": [
        {
          "output_type": "execute_result",
          "data": {
            "text/plain": [
              "<All keys matched successfully>"
            ]
          },
          "metadata": {},
          "execution_count": 64
        }
      ]
    },
    {
      "cell_type": "markdown",
      "source": [
        "## Model evaluation"
      ],
      "metadata": {
        "id": "JR47u6IJjuKa"
      }
    },
    {
      "cell_type": "code",
      "source": [
        "with torch.no_grad():\n",
        "  y_pred = loaded_model(X_test)\n",
        "  mse = mean_squared_error(y_test.numpy(), y_pred.numpy())\n",
        "  print(f'Mean Squared Error on test data: {mse:.4f}')"
      ],
      "metadata": {
        "colab": {
          "base_uri": "https://localhost:8080/"
        },
        "id": "INj6DXZEjo7T",
        "outputId": "70309d17-2ac4-4abe-b8aa-314866e5b9ee"
      },
      "execution_count": null,
      "outputs": [
        {
          "output_type": "stream",
          "name": "stdout",
          "text": [
            "Mean Squared Error on test data: 0.8744\n"
          ]
        }
      ]
    }
  ]
}