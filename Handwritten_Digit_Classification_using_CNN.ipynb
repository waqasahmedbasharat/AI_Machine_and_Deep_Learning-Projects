{
  "nbformat": 4,
  "nbformat_minor": 0,
  "metadata": {
    "colab": {
      "provenance": [],
      "gpuType": "T4"
    },
    "kernelspec": {
      "name": "python3",
      "display_name": "Python 3"
    },
    "language_info": {
      "name": "python"
    },
    "accelerator": "GPU"
  },
  "cells": [
    {
      "cell_type": "markdown",
      "source": [
        "## Imprting libraries"
      ],
      "metadata": {
        "id": "HcC3PLzWo_h9"
      }
    },
    {
      "cell_type": "code",
      "execution_count": null,
      "metadata": {
        "id": "IjUCOdn8sCq5"
      },
      "outputs": [],
      "source": [
        "import numpy as np\n",
        "import pandas as pd\n",
        "import keras\n",
        "import tensorflow as tf"
      ]
    },
    {
      "cell_type": "markdown",
      "source": [
        "## Check available devices"
      ],
      "metadata": {
        "id": "fCJrQh1gpJ1-"
      }
    },
    {
      "cell_type": "code",
      "source": [
        "from tensorflow.python.client import device_lib\n",
        "print(device_lib.list_local_devices())"
      ],
      "metadata": {
        "colab": {
          "base_uri": "https://localhost:8080/"
        },
        "id": "6mYQbPhkpIQ0",
        "outputId": "fda88e08-e60a-41ff-987d-a674820d4886"
      },
      "execution_count": null,
      "outputs": [
        {
          "output_type": "stream",
          "name": "stdout",
          "text": [
            "[name: \"/device:CPU:0\"\n",
            "device_type: \"CPU\"\n",
            "memory_limit: 268435456\n",
            "locality {\n",
            "}\n",
            "incarnation: 8676464340175671099\n",
            "xla_global_id: -1\n",
            ", name: \"/device:GPU:0\"\n",
            "device_type: \"GPU\"\n",
            "memory_limit: 14626652160\n",
            "locality {\n",
            "  bus_id: 1\n",
            "  links {\n",
            "  }\n",
            "}\n",
            "incarnation: 13936912418732963158\n",
            "physical_device_desc: \"device: 0, name: Tesla T4, pci bus id: 0000:00:04.0, compute capability: 7.5\"\n",
            "xla_global_id: 416903419\n",
            "]\n"
          ]
        }
      ]
    },
    {
      "cell_type": "markdown",
      "source": [
        "## Data Splitting"
      ],
      "metadata": {
        "id": "dDvej-jmptzJ"
      }
    },
    {
      "cell_type": "code",
      "source": [
        "# loading dataset\n",
        "from keras.datasets import mnist\n",
        "(X_train, Y_train), (X_test, Y_test) = mnist.load_data()"
      ],
      "metadata": {
        "colab": {
          "base_uri": "https://localhost:8080/"
        },
        "id": "IGw33tw5pZKK",
        "outputId": "ae6ad461-d7f9-4400-827f-4a441eea287e"
      },
      "execution_count": null,
      "outputs": [
        {
          "output_type": "stream",
          "name": "stdout",
          "text": [
            "Downloading data from https://storage.googleapis.com/tensorflow/tf-keras-datasets/mnist.npz\n",
            "11490434/11490434 [==============================] - 1s 0us/step\n"
          ]
        }
      ]
    },
    {
      "cell_type": "markdown",
      "source": [
        "## Preprocessing"
      ],
      "metadata": {
        "id": "9exJCm7Wq9Bs"
      }
    },
    {
      "cell_type": "code",
      "source": [
        "import matplotlib.pyplot as plt\n",
        "\n",
        "n = 10 #how many digits we will display\n",
        "plt.figure(figsize=(20,4))\n",
        "\n",
        "for i in range(n):\n",
        "  # display original\n",
        "  ax = plt.subplot(2, n, i + 1)\n",
        "  plt.imshow(X_test[i].reshape(28,28))\n",
        "  plt.gray()\n",
        "  ax.get_xaxis().set_visible(False)\n",
        "  ax.get_yaxis().set_visible(False)\n",
        "\n",
        "plt.show()\n",
        "plt.close()"
      ],
      "metadata": {
        "colab": {
          "base_uri": "https://localhost:8080/",
          "height": 128
        },
        "id": "nW39R3lhp5HU",
        "outputId": "9e2c6c30-0183-4521-aa31-94519211fa0b"
      },
      "execution_count": null,
      "outputs": [
        {
          "output_type": "display_data",
          "data": {
            "text/plain": [
              "<Figure size 2000x400 with 10 Axes>"
            ],
            "image/png": "[encoded data removed]"
          },
          "metadata": {}
        }
      ]
    },
    {
      "cell_type": "markdown",
      "source": [
        "## Shape of the data"
      ],
      "metadata": {
        "id": "FcsNE8ukD0WT"
      }
    },
    {
      "cell_type": "code",
      "source": [
        "print(\"X_train Shape: \", X_train.shape)\n",
        "print(\"Y_train Shape: \", Y_train.shape)\n",
        "print(\"X_test Shape: \", X_test.shape)\n",
        "print(\"Y_test Shape: \", Y_test.shape)"
      ],
      "metadata": {
        "colab": {
          "base_uri": "https://localhost:8080/"
        },
        "id": "t9QuQUUZD2mE",
        "outputId": "a6baeab3-62b3-4a5a-be48-f4e2f9d94f62"
      },
      "execution_count": null,
      "outputs": [
        {
          "output_type": "stream",
          "name": "stdout",
          "text": [
            "X_train Shape:  (60000, 28, 28)\n",
            "Y_train Shape:  (60000,)\n",
            "X_test Shape:  (10000, 28, 28)\n",
            "Y_test Shape:  (10000,)\n"
          ]
        }
      ]
    },
    {
      "cell_type": "markdown",
      "source": [
        "## Reshaping the data"
      ],
      "metadata": {
        "id": "gByDxc5hDY7F"
      }
    },
    {
      "cell_type": "code",
      "source": [
        "X_train = X_train.reshape(X_train.shape[0],28,28,1) # 1 channel like 1 color\n",
        "X_test = X_test.reshape(X_test.shape[0],28,28,1)"
      ],
      "metadata": {
        "id": "cbSpeXr4q-tA"
      },
      "execution_count": null,
      "outputs": []
    },
    {
      "cell_type": "markdown",
      "source": [
        "## Min-Max Scaling\n",
        "will see the dataset as 0 and 1 no data will domnate another"
      ],
      "metadata": {
        "id": "_Sjbblb9EqQw"
      }
    },
    {
      "cell_type": "code",
      "source": [
        "# convert data type to float32\n",
        "X_train = X_train.astype('float32')\n",
        "X_test = X_test.astype('float32')\n",
        "\n",
        "# Normalize the pixel values  to a range between 0 and 1\n",
        "X_train /= 255 # 0 mean black and 255 white\n",
        "X_test /= 255"
      ],
      "metadata": {
        "id": "-pTa5VNTDdJd"
      },
      "execution_count": null,
      "outputs": []
    },
    {
      "cell_type": "markdown",
      "source": [
        "## One hot encoding"
      ],
      "metadata": {
        "id": "j97Whd4qF-Bl"
      }
    },
    {
      "cell_type": "code",
      "source": [
        "from keras.utils import to_categorical\n",
        "\n",
        "# no of classes in the datset\n",
        "classes = 10\n",
        "\n",
        "# convert the labels to one-hot encoded format\n",
        "Y_train = to_categorical(Y_train, classes)\n",
        "Y_test =to_categorical(Y_test, classes)\n",
        "\n",
        "# print the preprocesses and reshaped data\n",
        "print(\"Now X_train shape: {} \\nNew Y_train shape: {}\".format(X_train.shape, Y_train.shape))\n",
        "print(\"Now X_test shape: {} \\nNew Y_test shape: {}\".format(X_test.shape, Y_test.shape))"
      ],
      "metadata": {
        "colab": {
          "base_uri": "https://localhost:8080/"
        },
        "id": "wnPABo2SEtdd",
        "outputId": "02b82405-18bb-41bd-fa49-847bde18b165"
      },
      "execution_count": null,
      "outputs": [
        {
          "output_type": "stream",
          "name": "stdout",
          "text": [
            "Now X_train shape: (60000, 28, 28, 1) \n",
            "New Y_train shape: (60000, 10)\n",
            "Now X_test shape: (10000, 28, 28, 1) \n",
            "New Y_test shape: (10000, 10)\n"
          ]
        }
      ]
    },
    {
      "cell_type": "markdown",
      "source": [
        "## Building the CNN"
      ],
      "metadata": {
        "id": "9wPSXbb-Gnsl"
      }
    },
    {
      "cell_type": "code",
      "source": [
        "from keras.models import Sequential\n",
        "from keras.layers import Dense, Flatten # flatten 2d to 1d vectors\n",
        "from keras.layers import Conv2D, MaxPooling2D\n"
      ],
      "metadata": {
        "id": "QJI4ZmyvGckx"
      },
      "execution_count": null,
      "outputs": []
    },
    {
      "cell_type": "code",
      "source": [
        "img_rows, img_cols, channels = 28, 28, 1\n",
        "\n",
        "# define no of fileters like no neurons we increase no of filters\n",
        "filters = [6, 32, 80, 120]\n",
        "\n",
        "# no of classes for classification\n",
        "classes = 10"
      ],
      "metadata": {
        "id": "gE77xXB5G_wK"
      },
      "execution_count": null,
      "outputs": []
    },
    {
      "cell_type": "code",
      "source": [
        "# standars neural network or fully connected neural network(layer by layer)\n",
        "# container to store layers\n",
        "model = Sequential()\n",
        "\n",
        "# input layer\n",
        "model.add(Conv2D(filters[0], (3,3), padding='same',\\\n",
        "                 activation='relu', input_shape=(img_rows, img_cols, channels))) # 1 color image have 1 channel and for color im 3 channels RGB\n",
        "model.add(MaxPooling2D(pool_size=(2,2))) # for reducing image size\n",
        "# (dim+pad-kernel)/2   (28+3-3)/2=14\n",
        "\n",
        "model.add(Conv2D(filters[1],(2,2), padding='same', activation='relu'))\n",
        "model.add(MaxPooling2D(pool_size=(2,2))) # max pooling mean max value\n",
        "# (dim+pad-kernel)/2   (14+2-2)/2=7\n",
        "\n",
        "model.add(Conv2D(filters[2],(2,2), padding='same', activation='relu'))\n",
        "model.add(MaxPooling2D(pool_size=(2,2)))\n",
        "# (dim+pad-kernel)/2   (7+2-2)/2=3\n",
        "\n",
        "model.add(Conv2D(filters[3],(2,2), padding='same', activation='relu'))\n",
        "model.add(MaxPooling2D(pool_size=(2,2)))\n",
        "# (dim+pad-kernel)/2   (3+2-2)/2=1\n",
        "\n",
        "model.add(Flatten())\n",
        "model.add(Dense(64, activation='relu'))\n",
        "model.add(Dense(classes, activation='softmax'))\n",
        "model.compile(loss='categorical_crossentropy', optimizer='sgd', metrics=['accuracy'])"
      ],
      "metadata": {
        "id": "F6CpoKSIJHnM"
      },
      "execution_count": null,
      "outputs": []
    },
    {
      "cell_type": "code",
      "source": [
        "model.summary()"
      ],
      "metadata": {
        "colab": {
          "base_uri": "https://localhost:8080/"
        },
        "id": "QzyIZz8IMUCH",
        "outputId": "92208e38-5938-4e84-93b9-02222e7c3d5e"
      },
      "execution_count": null,
      "outputs": [
        {
          "output_type": "stream",
          "name": "stdout",
          "text": [
            "Model: \"sequential\"\n",
            "_________________________________________________________________\n",
            " Layer (type)                Output Shape              Param #   \n",
            "=================================================================\n",
            " conv2d (Conv2D)             (None, 28, 28, 6)         60        \n",
            "                                                                 \n",
            " max_pooling2d (MaxPooling2  (None, 14, 14, 6)         0         \n",
            " D)                                                              \n",
            "                                                                 \n",
            " conv2d_1 (Conv2D)           (None, 14, 14, 32)        800       \n",
            "                                                                 \n",
            " max_pooling2d_1 (MaxPoolin  (None, 7, 7, 32)          0         \n",
            " g2D)                                                            \n",
            "                                                                 \n",
            " conv2d_2 (Conv2D)           (None, 7, 7, 80)          10320     \n",
            "                                                                 \n",
            " max_pooling2d_2 (MaxPoolin  (None, 3, 3, 80)          0         \n",
            " g2D)                                                            \n",
            "                                                                 \n",
            " conv2d_3 (Conv2D)           (None, 3, 3, 120)         38520     \n",
            "                                                                 \n",
            " max_pooling2d_3 (MaxPoolin  (None, 1, 1, 120)         0         \n",
            " g2D)                                                            \n",
            "                                                                 \n",
            " flatten (Flatten)           (None, 120)               0         \n",
            "                                                                 \n",
            " dense (Dense)               (None, 64)                7744      \n",
            "                                                                 \n",
            " dense_1 (Dense)             (None, 10)                650       \n",
            "                                                                 \n",
            "=================================================================\n",
            "Total params: 58094 (226.93 KB)\n",
            "Trainable params: 58094 (226.93 KB)\n",
            "Non-trainable params: 0 (0.00 Byte)\n",
            "_________________________________________________________________\n"
          ]
        }
      ]
    },
    {
      "cell_type": "markdown",
      "source": [
        "## Parametrs calculation in CNN\n",
        "(filter height * filter width * input channels + 10 * number of filters = parametres\n",
        "- layer1 = (3x3x1+1)x6=60\n",
        "- layer2 = (2x2x6+1)x32=800"
      ],
      "metadata": {
        "id": "GnSuik_dQsF9"
      }
    },
    {
      "cell_type": "markdown",
      "source": [
        "## Training the CNN\n",
        "whenever dealing with pics use batch size in square of 2 like 32, 64, or 128 ..."
      ],
      "metadata": {
        "id": "hf9oztOmRKqk"
      }
    },
    {
      "cell_type": "code",
      "source": [
        "model.fit(X_train, Y_train, validation_split=0.2, epochs=15, batch_size=64, verbose=1)"
      ],
      "metadata": {
        "colab": {
          "base_uri": "https://localhost:8080/"
        },
        "id": "8y6LGtSBPzPB",
        "outputId": "f66fe7d9-7b06-4ccf-8c20-a170920d9faf"
      },
      "execution_count": null,
      "outputs": [
        {
          "output_type": "stream",
          "name": "stdout",
          "text": [
            "Epoch 1/15\n",
            "750/750 [==============================] - 10s 8ms/step - loss: 2.0137 - accuracy: 0.3633 - val_loss: 0.9156 - val_accuracy: 0.7319\n",
            "Epoch 2/15\n",
            "750/750 [==============================] - 7s 9ms/step - loss: 0.5218 - accuracy: 0.8324 - val_loss: 0.2763 - val_accuracy: 0.9135\n",
            "Epoch 3/15\n",
            "750/750 [==============================] - 5s 7ms/step - loss: 0.2500 - accuracy: 0.9235 - val_loss: 0.1774 - val_accuracy: 0.9450\n",
            "Epoch 4/15\n",
            "750/750 [==============================] - 4s 5ms/step - loss: 0.1728 - accuracy: 0.9473 - val_loss: 0.1311 - val_accuracy: 0.9607\n",
            "Epoch 5/15\n",
            "750/750 [==============================] - 5s 6ms/step - loss: 0.1388 - accuracy: 0.9561 - val_loss: 0.1177 - val_accuracy: 0.9632\n",
            "Epoch 6/15\n",
            "750/750 [==============================] - 4s 6ms/step - loss: 0.1117 - accuracy: 0.9655 - val_loss: 0.1534 - val_accuracy: 0.9514\n",
            "Epoch 7/15\n",
            "750/750 [==============================] - 7s 10ms/step - loss: 0.0977 - accuracy: 0.9697 - val_loss: 0.0937 - val_accuracy: 0.9712\n",
            "Epoch 8/15\n",
            "750/750 [==============================] - 8s 10ms/step - loss: 0.0865 - accuracy: 0.9726 - val_loss: 0.0892 - val_accuracy: 0.9718\n",
            "Epoch 9/15\n",
            "750/750 [==============================] - 6s 8ms/step - loss: 0.0773 - accuracy: 0.9755 - val_loss: 0.0849 - val_accuracy: 0.9742\n",
            "Epoch 10/15\n",
            "750/750 [==============================] - 5s 6ms/step - loss: 0.0700 - accuracy: 0.9773 - val_loss: 0.0878 - val_accuracy: 0.9723\n",
            "Epoch 11/15\n",
            "750/750 [==============================] - 6s 8ms/step - loss: 0.0641 - accuracy: 0.9796 - val_loss: 0.0897 - val_accuracy: 0.9712\n",
            "Epoch 12/15\n",
            "750/750 [==============================] - 7s 9ms/step - loss: 0.0588 - accuracy: 0.9813 - val_loss: 0.0760 - val_accuracy: 0.9765\n",
            "Epoch 13/15\n",
            "750/750 [==============================] - 5s 7ms/step - loss: 0.0543 - accuracy: 0.9826 - val_loss: 0.0702 - val_accuracy: 0.9777\n",
            "Epoch 14/15\n",
            "750/750 [==============================] - 4s 6ms/step - loss: 0.0509 - accuracy: 0.9838 - val_loss: 0.0652 - val_accuracy: 0.9786\n",
            "Epoch 15/15\n",
            "750/750 [==============================] - 5s 6ms/step - loss: 0.0479 - accuracy: 0.9851 - val_loss: 0.0666 - val_accuracy: 0.9797\n"
          ]
        },
        {
          "output_type": "execute_result",
          "data": {
            "text/plain": [
              "<keras.src.callbacks.History at 0x7c19bc15b8b0>"
            ]
          },
          "metadata": {},
          "execution_count": 13
        }
      ]
    },
    {
      "cell_type": "markdown",
      "source": [
        "## Testing the model"
      ],
      "metadata": {
        "id": "XKGHpcSihiW6"
      }
    },
    {
      "cell_type": "code",
      "source": [
        "from sklearn.metrics import accuracy_score\n",
        "\n",
        "# predict\n",
        "y_pred_probs = model.predict(X_test, verbose=0)\n",
        "y_pred = np.where(y_pred_probs > 0.5, 1, 0)\n",
        "\n",
        "# calculate and print the test accuracy\n",
        "test_accuracy = accuracy_score(y_pred, Y_test)\n",
        "print(\"\\nTest accuracy: {}\".format(test_accuracy))"
      ],
      "metadata": {
        "colab": {
          "base_uri": "https://localhost:8080/"
        },
        "id": "BVi08_M_hjwF",
        "outputId": "61d4bc49-4a8e-4e6f-8dbd-4e6f84dae904"
      },
      "execution_count": null,
      "outputs": [
        {
          "output_type": "stream",
          "name": "stdout",
          "text": [
            "\n",
            "Test accuracy: 0.9801\n"
          ]
        }
      ]
    },
    {
      "cell_type": "code",
      "source": [
        "# define a mask for selecting a dice of ranges(20 to 49)\n",
        "mask = range(20, 50)\n",
        "\n",
        "# select the first 20 samples from the test set for viz\n",
        "X_valid = X_test[0:20]\n",
        "actual_labels = Y_test[0:20]\n",
        "\n",
        "# predict probs for the selected validation samples\n",
        "y_pred_probs_valid = model.predict(X_valid)\n",
        "y_pred_valid = np.where(y_pred_probs_valid > 0.5, 1, 0)\n",
        "\n",
        "# set up a figure to display images\n",
        "n = len(X_valid)\n",
        "plt.figure(figsize=(20,4))\n",
        "\n",
        "for i in range(n):\n",
        "  ax = plt.subplot(2, n, i+1)\n",
        "  plt.imshow(X_valid[i].reshape(28,28))\n",
        "  plt.gray()\n",
        "  ax.get_xaxis().set_visible(False)\n",
        "  ax.get_yaxis().set_visible(False)\n",
        "\n",
        "  # display predicted digits\n",
        "  predicted_digit = np.argmax(y_pred_probs_valid[i])\n",
        "  ax = plt.subplot(2, n, i+1+n)\n",
        "  plt.text(0.5, 0.5, str(predicted_digit), fontsize=12, ha='center', va='center')\n",
        "  plt.axis('off')\n",
        "\n",
        "plt.show()\n",
        "plt.close()"
      ],
      "metadata": {
        "colab": {
          "base_uri": "https://localhost:8080/",
          "height": 248
        },
        "id": "PlX7LJV7h4O9",
        "outputId": "2b7184a8-2a22-4724-ee7c-c0b921610e28"
      },
      "execution_count": null,
      "outputs": [
        {
          "output_type": "stream",
          "name": "stdout",
          "text": [
            "1/1 [==============================] - 0s 186ms/step\n"
          ]
        },
        {
          "output_type": "display_data",
          "data": {
            "text/plain": [
              "<Figure size 2000x400 with 40 Axes>"
            ],
            "image/png": "[encoded data removed]"
          },
          "metadata": {}
        }
      ]
    },
    {
      "cell_type": "code",
      "source": [
        "import matplotlib.pyplot as plt\n",
        "\n",
        "# Test accuracy value\n",
        "test_accuracy = 0.9801\n",
        "\n",
        "# Calculate percentage\n",
        "percentage_accuracy = test_accuracy * 100\n",
        "\n",
        "# Create a bar plot with percentage label\n",
        "plt.barh(['Test Accuracy'], [test_accuracy], color=['skyblue'])\n",
        "plt.xlabel('Accuracy (%)')\n",
        "plt.xlim(0, 1)  # Set x-axis limit to represent accuracy range (0 to 1)\n",
        "\n",
        "# Display percentage within the label\n",
        "plt.text(test_accuracy, 0, f'{percentage_accuracy:.2f}%', va='center', color='black')\n",
        "\n",
        "plt.title('Test Accuracy Visualization')\n",
        "plt.show()\n"
      ],
      "metadata": {
        "id": "6auaHn_2ikMp",
        "colab": {
          "base_uri": "https://localhost:8080/",
          "height": 472
        },
        "outputId": "aac7de2d-ac36-4bc7-c72c-83ba70bf1c6f"
      },
      "execution_count": null,
      "outputs": [
        {
          "output_type": "display_data",
          "data": {
            "text/plain": [
              "<Figure size 640x480 with 1 Axes>"
            ],
            "image/png": "[encoded data removed]"
          },
          "metadata": {}
        }
      ]
    },
    {
      "cell_type": "code",
      "source": [],
      "metadata": {
        "id": "CNwHPjPo3_xk"
      },
      "execution_count": null,
      "outputs": []
    }
  ]
}